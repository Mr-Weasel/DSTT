{
  "nbformat": 4,
  "nbformat_minor": 0,
  "metadata": {
    "colab": {
      "provenance": [],
      "authorship_tag": "ABX9TyMLJNKrUNkM6rVEx2lwkLGz",
      "include_colab_link": true
    },
    "kernelspec": {
      "name": "python3",
      "display_name": "Python 3"
    },
    "language_info": {
      "name": "python"
    }
  },
  "cells": [
    {
      "cell_type": "markdown",
      "metadata": {
        "id": "view-in-github",
        "colab_type": "text"
      },
      "source": [
        "<a href=\"https://colab.research.google.com/github/Mr-Weasel/DSTT/blob/main/DSTT_Assignment01.ipynb\" target=\"_parent\"><img src=\"https://colab.research.google.com/assets/colab-badge.svg\" alt=\"Open In Colab\"/></a>"
      ]
    },
    {
      "cell_type": "code",
      "execution_count": null,
      "metadata": {
        "id": "gPtKbFB62w5e"
      },
      "outputs": [],
      "source": [
        "# Name:Chinmay Anand\n",
        "# Reg No:22-14-10"
      ]
    },
    {
      "cell_type": "code",
      "source": [
        "# Question 1"
      ],
      "metadata": {
        "id": "SG8nDDUE3SrP"
      },
      "execution_count": null,
      "outputs": []
    },
    {
      "cell_type": "code",
      "source": [
        "N = int(input(\"Enter the size:\"))\n",
        "A = list(map(int, input(\"Enter the elements\").split()))\n",
        "\n",
        "R = A[::-1]\n",
        "\n",
        "result = [A[i] * R[i] for i in range(N)]\n",
        "\n",
        "print(*result)\n"
      ],
      "metadata": {
        "id": "SkElOn3e6IYd"
      },
      "execution_count": null,
      "outputs": []
    },
    {
      "cell_type": "code",
      "source": [
        "# Question 2"
      ],
      "metadata": {
        "id": "gHWPJHUfGMbn"
      },
      "execution_count": null,
      "outputs": []
    },
    {
      "cell_type": "code",
      "source": [
        "A=list(map(int, input(\"Enter the elements\").split()))\n",
        "\n",
        "B=A.copy()\n",
        "\n",
        "A.sort()\n",
        "\n",
        "B.sort(reverse= True)\n",
        "\n",
        "print(A[1],B[1])"
      ],
      "metadata": {
        "colab": {
          "base_uri": "https://localhost:8080/"
        },
        "id": "FpxJhlc5GYft",
        "outputId": "453208e1-b34c-4c59-ad8a-e64925606c8b"
      },
      "execution_count": null,
      "outputs": [
        {
          "output_type": "stream",
          "name": "stdout",
          "text": [
            "Enter the elements1 2 3 4 5 6 \n",
            "2 5\n"
          ]
        }
      ]
    },
    {
      "cell_type": "code",
      "source": [
        "#  Question 3"
      ],
      "metadata": {
        "id": "BywbELnFINLR"
      },
      "execution_count": null,
      "outputs": []
    },
    {
      "cell_type": "code",
      "source": [
        "A = list(map(int, input().split()))\n",
        "\n",
        "for num in A:\n",
        "    if num % 5 != 0:\n",
        "        print(num, end=\" \")\n"
      ],
      "metadata": {
        "id": "HBJ7MZPyIZYX"
      },
      "execution_count": null,
      "outputs": []
    },
    {
      "cell_type": "code",
      "source": [
        "# Question 4"
      ],
      "metadata": {
        "id": "NYhB8swEJ22W"
      },
      "execution_count": null,
      "outputs": []
    },
    {
      "cell_type": "code",
      "source": [
        "A = input()\n",
        "\n",
        "num_zeros = A.count('0')\n",
        "num_ones = A.count('1')\n",
        "\n",
        "if num_zeros == 1 or num_ones == 1:\n",
        "    print(\"YES\")\n",
        "else:\n",
        "    print(\"NO\")\n"
      ],
      "metadata": {
        "id": "qilzMXkPJ7Mm"
      },
      "execution_count": null,
      "outputs": []
    },
    {
      "cell_type": "code",
      "source": [
        "# Question 5"
      ],
      "metadata": {
        "id": "_GrEGyx6LE9r"
      },
      "execution_count": null,
      "outputs": []
    },
    {
      "cell_type": "code",
      "source": [
        "n = int(input())\n",
        "\n",
        "fact = 1\n",
        "\n",
        "for i in range(1, n+1):\n",
        "    fact *= i\n",
        "\n",
        "print(fact)\n"
      ],
      "metadata": {
        "id": "xZNeWCr2LI88"
      },
      "execution_count": null,
      "outputs": []
    },
    {
      "cell_type": "code",
      "source": [
        "# Question 6"
      ],
      "metadata": {
        "id": "6rWg5KbTLs_u"
      },
      "execution_count": null,
      "outputs": []
    },
    {
      "cell_type": "code",
      "source": [
        "m, n = map(int, input().split(\",\"))\n",
        "\n",
        "result = []\n",
        "\n",
        "for num in range(m, n+1):\n",
        "    digits = [int(digit) for digit in str(num)]\n",
        "    if all(digit % 2 == 0 for digit in digits):\n",
        "        result.append(num)\n",
        "\n",
        "print(*result, sep=\",\")\n"
      ],
      "metadata": {
        "id": "G25aeYWSLx9k"
      },
      "execution_count": null,
      "outputs": []
    }
  ]
}